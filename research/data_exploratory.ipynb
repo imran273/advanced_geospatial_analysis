{
 "cells": [
  {
   "cell_type": "code",
   "execution_count": 26,
   "metadata": {},
   "outputs": [],
   "source": [
    "import numpy as np\n",
    "import pandas as pd\n",
    "import matplotlib.pyplot as plt\n",
    "import seaborn as sns\n",
    "import sqlalchemy as sa\n",
    "import folium\n",
    "import pyspark\n",
    "import pandas as pd\n",
    "#import geopandas as gpd\n",
    "import geopy\n",
    "from geopy.geocoders import Nominatim\n",
    "from geopy.extra.rate_limiter import RateLimiter\n",
    "import matplotlib.pyplot as plt\n",
    "import folium\n",
    "from folium.plugins import FastMarkerCluster\n",
    "%matplotlib inline\n",
    "import sqlalchemy as sa\n",
    "from sqlalchemy import create_engine\n",
    "from pydqc.data_summary import distribution_summary_pretty\n",
    "plt.style.use('seaborn-whitegrid')\n",
    "path = 'C:\\\\Users\\\\ASUS\\\\Documents\\\\advanced_geospatial_analysis\\\\research\\\\datasets\\\\'"
   ]
  },
  {
   "cell_type": "code",
   "execution_count": 2,
   "metadata": {},
   "outputs": [],
   "source": [
    "trip_data = pd.read_csv(path + 'trip_data_4.csv')\n",
    "trip_fare = pd.read_csv(path + 'trip_fare_4.csv')"
   ]
  },
  {
   "cell_type": "code",
   "execution_count": 3,
   "metadata": {},
   "outputs": [],
   "source": [
    "# Create SQL Alchemy Engine\n",
    "engine = create_engine('postgres://postgres:Jakarta@83@127.0.0.1:5432/postgres')"
   ]
  },
  {
   "cell_type": "markdown",
   "metadata": {},
   "source": [
    "# Data preparations"
   ]
  },
  {
   "cell_type": "code",
   "execution_count": 4,
   "metadata": {},
   "outputs": [
    {
     "data": {
      "text/plain": [
       "(15100468, 14)"
      ]
     },
     "execution_count": 4,
     "metadata": {},
     "output_type": "execute_result"
    }
   ],
   "source": [
    "trip_data.shape"
   ]
  },
  {
   "cell_type": "code",
   "execution_count": 5,
   "metadata": {},
   "outputs": [
    {
     "data": {
      "text/plain": [
       "medallion               object\n",
       " hack_license           object\n",
       " vendor_id              object\n",
       " rate_code               int64\n",
       " store_and_fwd_flag     object\n",
       " pickup_datetime        object\n",
       " dropoff_datetime       object\n",
       " passenger_count         int64\n",
       " trip_time_in_secs       int64\n",
       " trip_distance         float64\n",
       " pickup_longitude      float64\n",
       " pickup_latitude       float64\n",
       " dropoff_longitude     float64\n",
       " dropoff_latitude      float64\n",
       "dtype: object"
      ]
     },
     "execution_count": 5,
     "metadata": {},
     "output_type": "execute_result"
    }
   ],
   "source": [
    "trip_data.dtypes"
   ]
  },
  {
   "cell_type": "code",
   "execution_count": 14,
   "metadata": {},
   "outputs": [],
   "source": [
    "cleaned_tripdata = trip_data.dropna()"
   ]
  },
  {
   "cell_type": "code",
   "execution_count": 7,
   "metadata": {},
   "outputs": [
    {
     "data": {
      "text/plain": [
       "(7581811, 14)"
      ]
     },
     "execution_count": 7,
     "metadata": {},
     "output_type": "execute_result"
    }
   ],
   "source": [
    "cleaned_tripdata.shape"
   ]
  },
  {
   "cell_type": "code",
   "execution_count": 8,
   "metadata": {
    "scrolled": true
   },
   "outputs": [
    {
     "data": {
      "text/html": [
       "<div>\n",
       "<style scoped>\n",
       "    .dataframe tbody tr th:only-of-type {\n",
       "        vertical-align: middle;\n",
       "    }\n",
       "\n",
       "    .dataframe tbody tr th {\n",
       "        vertical-align: top;\n",
       "    }\n",
       "\n",
       "    .dataframe thead th {\n",
       "        text-align: right;\n",
       "    }\n",
       "</style>\n",
       "<table border=\"1\" class=\"dataframe\">\n",
       "  <thead>\n",
       "    <tr style=\"text-align: right;\">\n",
       "      <th></th>\n",
       "      <th>medallion</th>\n",
       "      <th>hack_license</th>\n",
       "      <th>vendor_id</th>\n",
       "      <th>rate_code</th>\n",
       "      <th>store_and_fwd_flag</th>\n",
       "      <th>pickup_datetime</th>\n",
       "      <th>dropoff_datetime</th>\n",
       "      <th>passenger_count</th>\n",
       "      <th>trip_time_in_secs</th>\n",
       "      <th>trip_distance</th>\n",
       "      <th>pickup_longitude</th>\n",
       "      <th>pickup_latitude</th>\n",
       "      <th>dropoff_longitude</th>\n",
       "      <th>dropoff_latitude</th>\n",
       "    </tr>\n",
       "  </thead>\n",
       "  <tbody>\n",
       "    <tr>\n",
       "      <th>0</th>\n",
       "      <td>91F6EB84975BBC867E32CB113C7C2CD5</td>\n",
       "      <td>AD8751110E6292079EB10EB9481FE1A6</td>\n",
       "      <td>CMT</td>\n",
       "      <td>1</td>\n",
       "      <td>N</td>\n",
       "      <td>2013-04-04 18:47:45</td>\n",
       "      <td>2013-04-04 19:00:25</td>\n",
       "      <td>1</td>\n",
       "      <td>759</td>\n",
       "      <td>2.5</td>\n",
       "      <td>-73.957855</td>\n",
       "      <td>40.765320</td>\n",
       "      <td>-73.976273</td>\n",
       "      <td>40.785648</td>\n",
       "    </tr>\n",
       "    <tr>\n",
       "      <th>1</th>\n",
       "      <td>EC34CD1B3797DFAFF3FE099BA87B6656</td>\n",
       "      <td>8FE6A4AEDF89B6B4E19D2377FD3FB7D7</td>\n",
       "      <td>CMT</td>\n",
       "      <td>1</td>\n",
       "      <td>N</td>\n",
       "      <td>2013-04-05 07:08:34</td>\n",
       "      <td>2013-04-05 07:17:34</td>\n",
       "      <td>1</td>\n",
       "      <td>540</td>\n",
       "      <td>1.6</td>\n",
       "      <td>0.000000</td>\n",
       "      <td>0.000000</td>\n",
       "      <td>0.000000</td>\n",
       "      <td>0.000000</td>\n",
       "    </tr>\n",
       "    <tr>\n",
       "      <th>2</th>\n",
       "      <td>C1B9DA774DC2BBC6DE27CE994E7F44A0</td>\n",
       "      <td>E1B595FD55E4C82C1E213EB17438107A</td>\n",
       "      <td>CMT</td>\n",
       "      <td>1</td>\n",
       "      <td>N</td>\n",
       "      <td>2013-04-04 17:59:50</td>\n",
       "      <td>2013-04-04 18:21:48</td>\n",
       "      <td>1</td>\n",
       "      <td>1318</td>\n",
       "      <td>3.6</td>\n",
       "      <td>-73.982880</td>\n",
       "      <td>40.754990</td>\n",
       "      <td>-74.009186</td>\n",
       "      <td>40.715374</td>\n",
       "    </tr>\n",
       "    <tr>\n",
       "      <th>3</th>\n",
       "      <td>9BA84250355AB3FC031C9252D395BF8A</td>\n",
       "      <td>16BB0D96A0DCC853AEC7F55C8D6C71E0</td>\n",
       "      <td>CMT</td>\n",
       "      <td>1</td>\n",
       "      <td>N</td>\n",
       "      <td>2013-04-04 18:12:01</td>\n",
       "      <td>2013-04-04 18:25:24</td>\n",
       "      <td>1</td>\n",
       "      <td>799</td>\n",
       "      <td>1.9</td>\n",
       "      <td>-73.978119</td>\n",
       "      <td>40.763451</td>\n",
       "      <td>-73.955666</td>\n",
       "      <td>40.776642</td>\n",
       "    </tr>\n",
       "    <tr>\n",
       "      <th>4</th>\n",
       "      <td>205A696DF62AD03C88DA8C5EC5248639</td>\n",
       "      <td>579C41EA5EC846F8B641A42F9EE3E855</td>\n",
       "      <td>CMT</td>\n",
       "      <td>1</td>\n",
       "      <td>N</td>\n",
       "      <td>2013-04-04 20:12:57</td>\n",
       "      <td>2013-04-04 20:29:55</td>\n",
       "      <td>1</td>\n",
       "      <td>1017</td>\n",
       "      <td>3.6</td>\n",
       "      <td>-74.006371</td>\n",
       "      <td>40.744755</td>\n",
       "      <td>-73.961662</td>\n",
       "      <td>40.761082</td>\n",
       "    </tr>\n",
       "  </tbody>\n",
       "</table>\n",
       "</div>"
      ],
      "text/plain": [
       "                          medallion                      hack_license  \\\n",
       "0  91F6EB84975BBC867E32CB113C7C2CD5  AD8751110E6292079EB10EB9481FE1A6   \n",
       "1  EC34CD1B3797DFAFF3FE099BA87B6656  8FE6A4AEDF89B6B4E19D2377FD3FB7D7   \n",
       "2  C1B9DA774DC2BBC6DE27CE994E7F44A0  E1B595FD55E4C82C1E213EB17438107A   \n",
       "3  9BA84250355AB3FC031C9252D395BF8A  16BB0D96A0DCC853AEC7F55C8D6C71E0   \n",
       "4  205A696DF62AD03C88DA8C5EC5248639  579C41EA5EC846F8B641A42F9EE3E855   \n",
       "\n",
       "   vendor_id   rate_code  store_and_fwd_flag      pickup_datetime  \\\n",
       "0        CMT           1                   N  2013-04-04 18:47:45   \n",
       "1        CMT           1                   N  2013-04-05 07:08:34   \n",
       "2        CMT           1                   N  2013-04-04 17:59:50   \n",
       "3        CMT           1                   N  2013-04-04 18:12:01   \n",
       "4        CMT           1                   N  2013-04-04 20:12:57   \n",
       "\n",
       "      dropoff_datetime   passenger_count   trip_time_in_secs   trip_distance  \\\n",
       "0  2013-04-04 19:00:25                 1                 759             2.5   \n",
       "1  2013-04-05 07:17:34                 1                 540             1.6   \n",
       "2  2013-04-04 18:21:48                 1                1318             3.6   \n",
       "3  2013-04-04 18:25:24                 1                 799             1.9   \n",
       "4  2013-04-04 20:29:55                 1                1017             3.6   \n",
       "\n",
       "    pickup_longitude   pickup_latitude   dropoff_longitude   dropoff_latitude  \n",
       "0         -73.957855         40.765320          -73.976273          40.785648  \n",
       "1           0.000000          0.000000            0.000000           0.000000  \n",
       "2         -73.982880         40.754990          -74.009186          40.715374  \n",
       "3         -73.978119         40.763451          -73.955666          40.776642  \n",
       "4         -74.006371         40.744755          -73.961662          40.761082  "
      ]
     },
     "execution_count": 8,
     "metadata": {},
     "output_type": "execute_result"
    }
   ],
   "source": [
    "trip_data.head()"
   ]
  },
  {
   "cell_type": "code",
   "execution_count": 9,
   "metadata": {},
   "outputs": [
    {
     "data": {
      "text/html": [
       "<div>\n",
       "<style scoped>\n",
       "    .dataframe tbody tr th:only-of-type {\n",
       "        vertical-align: middle;\n",
       "    }\n",
       "\n",
       "    .dataframe tbody tr th {\n",
       "        vertical-align: top;\n",
       "    }\n",
       "\n",
       "    .dataframe thead th {\n",
       "        text-align: right;\n",
       "    }\n",
       "</style>\n",
       "<table border=\"1\" class=\"dataframe\">\n",
       "  <thead>\n",
       "    <tr style=\"text-align: right;\">\n",
       "      <th></th>\n",
       "      <th>medallion</th>\n",
       "      <th>hack_license</th>\n",
       "      <th>vendor_id</th>\n",
       "      <th>pickup_datetime</th>\n",
       "      <th>payment_type</th>\n",
       "      <th>fare_amount</th>\n",
       "      <th>surcharge</th>\n",
       "      <th>mta_tax</th>\n",
       "      <th>tip_amount</th>\n",
       "      <th>tolls_amount</th>\n",
       "      <th>total_amount</th>\n",
       "    </tr>\n",
       "  </thead>\n",
       "  <tbody>\n",
       "    <tr>\n",
       "      <th>0</th>\n",
       "      <td>91F6EB84975BBC867E32CB113C7C2CD5</td>\n",
       "      <td>AD8751110E6292079EB10EB9481FE1A6</td>\n",
       "      <td>CMT</td>\n",
       "      <td>2013-04-04 18:47:45</td>\n",
       "      <td>CRD</td>\n",
       "      <td>11.0</td>\n",
       "      <td>1.0</td>\n",
       "      <td>0.5</td>\n",
       "      <td>2.50</td>\n",
       "      <td>0.0</td>\n",
       "      <td>15.00</td>\n",
       "    </tr>\n",
       "    <tr>\n",
       "      <th>1</th>\n",
       "      <td>EC34CD1B3797DFAFF3FE099BA87B6656</td>\n",
       "      <td>8FE6A4AEDF89B6B4E19D2377FD3FB7D7</td>\n",
       "      <td>CMT</td>\n",
       "      <td>2013-04-05 07:08:34</td>\n",
       "      <td>CRD</td>\n",
       "      <td>8.5</td>\n",
       "      <td>0.0</td>\n",
       "      <td>0.5</td>\n",
       "      <td>1.80</td>\n",
       "      <td>0.0</td>\n",
       "      <td>10.80</td>\n",
       "    </tr>\n",
       "    <tr>\n",
       "      <th>2</th>\n",
       "      <td>C1B9DA774DC2BBC6DE27CE994E7F44A0</td>\n",
       "      <td>E1B595FD55E4C82C1E213EB17438107A</td>\n",
       "      <td>CMT</td>\n",
       "      <td>2013-04-04 17:59:50</td>\n",
       "      <td>CRD</td>\n",
       "      <td>16.5</td>\n",
       "      <td>1.0</td>\n",
       "      <td>0.5</td>\n",
       "      <td>3.60</td>\n",
       "      <td>0.0</td>\n",
       "      <td>21.60</td>\n",
       "    </tr>\n",
       "    <tr>\n",
       "      <th>3</th>\n",
       "      <td>9BA84250355AB3FC031C9252D395BF8A</td>\n",
       "      <td>16BB0D96A0DCC853AEC7F55C8D6C71E0</td>\n",
       "      <td>CMT</td>\n",
       "      <td>2013-04-04 18:12:01</td>\n",
       "      <td>CRD</td>\n",
       "      <td>10.0</td>\n",
       "      <td>1.0</td>\n",
       "      <td>0.5</td>\n",
       "      <td>3.45</td>\n",
       "      <td>0.0</td>\n",
       "      <td>14.95</td>\n",
       "    </tr>\n",
       "    <tr>\n",
       "      <th>4</th>\n",
       "      <td>205A696DF62AD03C88DA8C5EC5248639</td>\n",
       "      <td>579C41EA5EC846F8B641A42F9EE3E855</td>\n",
       "      <td>CMT</td>\n",
       "      <td>2013-04-04 20:12:57</td>\n",
       "      <td>CRD</td>\n",
       "      <td>15.0</td>\n",
       "      <td>0.5</td>\n",
       "      <td>0.5</td>\n",
       "      <td>3.20</td>\n",
       "      <td>0.0</td>\n",
       "      <td>19.20</td>\n",
       "    </tr>\n",
       "  </tbody>\n",
       "</table>\n",
       "</div>"
      ],
      "text/plain": [
       "                          medallion                      hack_license  \\\n",
       "0  91F6EB84975BBC867E32CB113C7C2CD5  AD8751110E6292079EB10EB9481FE1A6   \n",
       "1  EC34CD1B3797DFAFF3FE099BA87B6656  8FE6A4AEDF89B6B4E19D2377FD3FB7D7   \n",
       "2  C1B9DA774DC2BBC6DE27CE994E7F44A0  E1B595FD55E4C82C1E213EB17438107A   \n",
       "3  9BA84250355AB3FC031C9252D395BF8A  16BB0D96A0DCC853AEC7F55C8D6C71E0   \n",
       "4  205A696DF62AD03C88DA8C5EC5248639  579C41EA5EC846F8B641A42F9EE3E855   \n",
       "\n",
       "   vendor_id      pickup_datetime  payment_type   fare_amount   surcharge  \\\n",
       "0        CMT  2013-04-04 18:47:45           CRD          11.0         1.0   \n",
       "1        CMT  2013-04-05 07:08:34           CRD           8.5         0.0   \n",
       "2        CMT  2013-04-04 17:59:50           CRD          16.5         1.0   \n",
       "3        CMT  2013-04-04 18:12:01           CRD          10.0         1.0   \n",
       "4        CMT  2013-04-04 20:12:57           CRD          15.0         0.5   \n",
       "\n",
       "    mta_tax   tip_amount   tolls_amount   total_amount  \n",
       "0       0.5         2.50            0.0          15.00  \n",
       "1       0.5         1.80            0.0          10.80  \n",
       "2       0.5         3.60            0.0          21.60  \n",
       "3       0.5         3.45            0.0          14.95  \n",
       "4       0.5         3.20            0.0          19.20  "
      ]
     },
     "execution_count": 9,
     "metadata": {},
     "output_type": "execute_result"
    }
   ],
   "source": [
    "trip_fare.head()"
   ]
  },
  {
   "cell_type": "code",
   "execution_count": 10,
   "metadata": {},
   "outputs": [],
   "source": [
    "training_set = cleaned_tripdata.head(1000000)"
   ]
  },
  {
   "cell_type": "code",
   "execution_count": 12,
   "metadata": {},
   "outputs": [],
   "source": [
    "training_set.to_sql(name='uber_trip', con=engine, if_exists='replace')"
   ]
  },
  {
   "cell_type": "markdown",
   "metadata": {},
   "source": [
    "# New York Map"
   ]
  },
  {
   "cell_type": "code",
   "execution_count": 34,
   "metadata": {},
   "outputs": [
    {
     "data": {
      "text/html": [
       "<div style=\"width:100%;\"><div style=\"position:relative;width:100%;height:0;padding-bottom:60%;\"><iframe src=\"about:blank\" style=\"position:absolute;width:100%;height:100%;left:0;top:0;border:none !important;\" data-html=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 onload=\"this.contentDocument.open();this.contentDocument.write(atob(this.getAttribute('data-html')));this.contentDocument.close();\" allowfullscreen webkitallowfullscreen mozallowfullscreen></iframe></div></div>"
      ],
      "text/plain": [
       "<folium.folium.Map at 0x2860d7959c8>"
      ]
     },
     "execution_count": 34,
     "metadata": {},
     "output_type": "execute_result"
    }
   ],
   "source": [
    "map = folium.Map(location=[40.730610, -73.935242],\n",
    "                 zoom_start = 11)\n",
    "map"
   ]
  },
  {
   "cell_type": "code",
   "execution_count": 15,
   "metadata": {},
   "outputs": [
    {
     "data": {
      "text/html": [
       "<div>\n",
       "<style scoped>\n",
       "    .dataframe tbody tr th:only-of-type {\n",
       "        vertical-align: middle;\n",
       "    }\n",
       "\n",
       "    .dataframe tbody tr th {\n",
       "        vertical-align: top;\n",
       "    }\n",
       "\n",
       "    .dataframe thead th {\n",
       "        text-align: right;\n",
       "    }\n",
       "</style>\n",
       "<table border=\"1\" class=\"dataframe\">\n",
       "  <thead>\n",
       "    <tr style=\"text-align: right;\">\n",
       "      <th></th>\n",
       "      <th>medallion</th>\n",
       "      <th>hack_license</th>\n",
       "      <th>vendor_id</th>\n",
       "      <th>rate_code</th>\n",
       "      <th>store_and_fwd_flag</th>\n",
       "      <th>pickup_datetime</th>\n",
       "      <th>dropoff_datetime</th>\n",
       "      <th>passenger_count</th>\n",
       "      <th>trip_time_in_secs</th>\n",
       "      <th>trip_distance</th>\n",
       "      <th>pickup_longitude</th>\n",
       "      <th>pickup_latitude</th>\n",
       "      <th>dropoff_longitude</th>\n",
       "      <th>dropoff_latitude</th>\n",
       "    </tr>\n",
       "  </thead>\n",
       "  <tbody>\n",
       "    <tr>\n",
       "      <th>0</th>\n",
       "      <td>91F6EB84975BBC867E32CB113C7C2CD5</td>\n",
       "      <td>AD8751110E6292079EB10EB9481FE1A6</td>\n",
       "      <td>CMT</td>\n",
       "      <td>1</td>\n",
       "      <td>N</td>\n",
       "      <td>2013-04-04 18:47:45</td>\n",
       "      <td>2013-04-04 19:00:25</td>\n",
       "      <td>1</td>\n",
       "      <td>759</td>\n",
       "      <td>2.5</td>\n",
       "      <td>-73.957855</td>\n",
       "      <td>40.765320</td>\n",
       "      <td>-73.976273</td>\n",
       "      <td>40.785648</td>\n",
       "    </tr>\n",
       "    <tr>\n",
       "      <th>1</th>\n",
       "      <td>EC34CD1B3797DFAFF3FE099BA87B6656</td>\n",
       "      <td>8FE6A4AEDF89B6B4E19D2377FD3FB7D7</td>\n",
       "      <td>CMT</td>\n",
       "      <td>1</td>\n",
       "      <td>N</td>\n",
       "      <td>2013-04-05 07:08:34</td>\n",
       "      <td>2013-04-05 07:17:34</td>\n",
       "      <td>1</td>\n",
       "      <td>540</td>\n",
       "      <td>1.6</td>\n",
       "      <td>0.000000</td>\n",
       "      <td>0.000000</td>\n",
       "      <td>0.000000</td>\n",
       "      <td>0.000000</td>\n",
       "    </tr>\n",
       "    <tr>\n",
       "      <th>2</th>\n",
       "      <td>C1B9DA774DC2BBC6DE27CE994E7F44A0</td>\n",
       "      <td>E1B595FD55E4C82C1E213EB17438107A</td>\n",
       "      <td>CMT</td>\n",
       "      <td>1</td>\n",
       "      <td>N</td>\n",
       "      <td>2013-04-04 17:59:50</td>\n",
       "      <td>2013-04-04 18:21:48</td>\n",
       "      <td>1</td>\n",
       "      <td>1318</td>\n",
       "      <td>3.6</td>\n",
       "      <td>-73.982880</td>\n",
       "      <td>40.754990</td>\n",
       "      <td>-74.009186</td>\n",
       "      <td>40.715374</td>\n",
       "    </tr>\n",
       "    <tr>\n",
       "      <th>3</th>\n",
       "      <td>9BA84250355AB3FC031C9252D395BF8A</td>\n",
       "      <td>16BB0D96A0DCC853AEC7F55C8D6C71E0</td>\n",
       "      <td>CMT</td>\n",
       "      <td>1</td>\n",
       "      <td>N</td>\n",
       "      <td>2013-04-04 18:12:01</td>\n",
       "      <td>2013-04-04 18:25:24</td>\n",
       "      <td>1</td>\n",
       "      <td>799</td>\n",
       "      <td>1.9</td>\n",
       "      <td>-73.978119</td>\n",
       "      <td>40.763451</td>\n",
       "      <td>-73.955666</td>\n",
       "      <td>40.776642</td>\n",
       "    </tr>\n",
       "    <tr>\n",
       "      <th>4</th>\n",
       "      <td>205A696DF62AD03C88DA8C5EC5248639</td>\n",
       "      <td>579C41EA5EC846F8B641A42F9EE3E855</td>\n",
       "      <td>CMT</td>\n",
       "      <td>1</td>\n",
       "      <td>N</td>\n",
       "      <td>2013-04-04 20:12:57</td>\n",
       "      <td>2013-04-04 20:29:55</td>\n",
       "      <td>1</td>\n",
       "      <td>1017</td>\n",
       "      <td>3.6</td>\n",
       "      <td>-74.006371</td>\n",
       "      <td>40.744755</td>\n",
       "      <td>-73.961662</td>\n",
       "      <td>40.761082</td>\n",
       "    </tr>\n",
       "  </tbody>\n",
       "</table>\n",
       "</div>"
      ],
      "text/plain": [
       "                          medallion                      hack_license  \\\n",
       "0  91F6EB84975BBC867E32CB113C7C2CD5  AD8751110E6292079EB10EB9481FE1A6   \n",
       "1  EC34CD1B3797DFAFF3FE099BA87B6656  8FE6A4AEDF89B6B4E19D2377FD3FB7D7   \n",
       "2  C1B9DA774DC2BBC6DE27CE994E7F44A0  E1B595FD55E4C82C1E213EB17438107A   \n",
       "3  9BA84250355AB3FC031C9252D395BF8A  16BB0D96A0DCC853AEC7F55C8D6C71E0   \n",
       "4  205A696DF62AD03C88DA8C5EC5248639  579C41EA5EC846F8B641A42F9EE3E855   \n",
       "\n",
       "   vendor_id   rate_code  store_and_fwd_flag      pickup_datetime  \\\n",
       "0        CMT           1                   N  2013-04-04 18:47:45   \n",
       "1        CMT           1                   N  2013-04-05 07:08:34   \n",
       "2        CMT           1                   N  2013-04-04 17:59:50   \n",
       "3        CMT           1                   N  2013-04-04 18:12:01   \n",
       "4        CMT           1                   N  2013-04-04 20:12:57   \n",
       "\n",
       "      dropoff_datetime   passenger_count   trip_time_in_secs   trip_distance  \\\n",
       "0  2013-04-04 19:00:25                 1                 759             2.5   \n",
       "1  2013-04-05 07:17:34                 1                 540             1.6   \n",
       "2  2013-04-04 18:21:48                 1                1318             3.6   \n",
       "3  2013-04-04 18:25:24                 1                 799             1.9   \n",
       "4  2013-04-04 20:29:55                 1                1017             3.6   \n",
       "\n",
       "    pickup_longitude   pickup_latitude   dropoff_longitude   dropoff_latitude  \n",
       "0         -73.957855         40.765320          -73.976273          40.785648  \n",
       "1           0.000000          0.000000            0.000000           0.000000  \n",
       "2         -73.982880         40.754990          -74.009186          40.715374  \n",
       "3         -73.978119         40.763451          -73.955666          40.776642  \n",
       "4         -74.006371         40.744755          -73.961662          40.761082  "
      ]
     },
     "execution_count": 15,
     "metadata": {},
     "output_type": "execute_result"
    }
   ],
   "source": [
    "training_set.head()"
   ]
  },
  {
   "cell_type": "code",
   "execution_count": 16,
   "metadata": {},
   "outputs": [
    {
     "data": {
      "text/plain": [
       "(1000000, 14)"
      ]
     },
     "execution_count": 16,
     "metadata": {},
     "output_type": "execute_result"
    }
   ],
   "source": [
    "training_set.shape"
   ]
  },
  {
   "cell_type": "markdown",
   "metadata": {},
   "source": [
    "# GeoSpatial Heatmap"
   ]
  },
  {
   "cell_type": "code",
   "execution_count": 18,
   "metadata": {},
   "outputs": [
    {
     "name": "stdout",
     "output_type": "stream",
     "text": [
      "Collecting geopandas\n",
      "  Using cached geopandas-0.7.0-py2.py3-none-any.whl (928 kB)\n",
      "Requirement already satisfied: pandas>=0.23.0 in c:\\users\\asus\\anaconda3\\3\\lib\\site-packages (from geopandas) (1.0.1)\n",
      "Requirement already satisfied: shapely in c:\\users\\asus\\anaconda3\\3\\lib\\site-packages (from geopandas) (1.7.0)\n",
      "Collecting pyproj>=2.2.0\n",
      "  Using cached pyproj-2.6.1.post1-cp37-cp37m-win_amd64.whl (17.2 MB)\n",
      "Collecting fiona\n",
      "  Using cached Fiona-1.8.13.post1.tar.gz (1.2 MB)\n"
     ]
    },
    {
     "name": "stderr",
     "output_type": "stream",
     "text": [
      "    ERROR: Command errored out with exit status 1:\n",
      "     command: 'C:\\Users\\ASUS\\anaconda3\\3\\python.exe' -c 'import sys, setuptools, tokenize; sys.argv[0] = '\"'\"'C:\\\\Users\\\\ASUS\\\\AppData\\\\Local\\\\Temp\\\\pip-install-28wq_6tg\\\\fiona\\\\setup.py'\"'\"'; __file__='\"'\"'C:\\\\Users\\\\ASUS\\\\AppData\\\\Local\\\\Temp\\\\pip-install-28wq_6tg\\\\fiona\\\\setup.py'\"'\"';f=getattr(tokenize, '\"'\"'open'\"'\"', open)(__file__);code=f.read().replace('\"'\"'\\r\\n'\"'\"', '\"'\"'\\n'\"'\"');f.close();exec(compile(code, __file__, '\"'\"'exec'\"'\"'))' egg_info --egg-base 'C:\\Users\\ASUS\\AppData\\Local\\Temp\\pip-install-28wq_6tg\\fiona\\pip-egg-info'\n",
      "         cwd: C:\\Users\\ASUS\\AppData\\Local\\Temp\\pip-install-28wq_6tg\\fiona\\\n",
      "    Complete output (1 lines):\n",
      "    A GDAL API version must be specified. Provide a path to gdal-config using a GDAL_CONFIG environment variable or use a GDAL_VERSION environment variable.\n",
      "    ----------------------------------------\n",
      "ERROR: Command errored out with exit status 1: python setup.py egg_info Check the logs for full command output.\n"
     ]
    },
    {
     "name": "stdout",
     "output_type": "stream",
     "text": [
      "Requirement already satisfied: geopy in c:\\users\\asus\\anaconda3\\3\\lib\\site-packages (1.21.0)\n",
      "Requirement already satisfied: geographiclib<2,>=1.49 in c:\\users\\asus\\anaconda3\\3\\lib\\site-packages (from geopy) (1.50)\n"
     ]
    }
   ],
   "source": [
    "!pip install geopandas\n",
    "!pip install geopy"
   ]
  },
  {
   "cell_type": "code",
   "execution_count": 46,
   "metadata": {},
   "outputs": [],
   "source": [
    "locator = Nominatim(user_agent=\"myGeocoder\")\n",
    "location = locator.geocode(\"Jl perkici bintaro\")"
   ]
  },
  {
   "cell_type": "code",
   "execution_count": 47,
   "metadata": {},
   "outputs": [
    {
     "ename": "AttributeError",
     "evalue": "'NoneType' object has no attribute 'latitude'",
     "output_type": "error",
     "traceback": [
      "\u001b[1;31m---------------------------------------------------------------------------\u001b[0m",
      "\u001b[1;31mAttributeError\u001b[0m                            Traceback (most recent call last)",
      "\u001b[1;32m<ipython-input-47-92f30300076f>\u001b[0m in \u001b[0;36m<module>\u001b[1;34m\u001b[0m\n\u001b[1;32m----> 1\u001b[1;33m \u001b[0mprint\u001b[0m\u001b[1;33m(\u001b[0m\u001b[1;34m\"Latitude = {}, Longitude = {}\"\u001b[0m\u001b[1;33m.\u001b[0m\u001b[0mformat\u001b[0m\u001b[1;33m(\u001b[0m\u001b[0mlocation\u001b[0m\u001b[1;33m.\u001b[0m\u001b[0mlatitude\u001b[0m\u001b[1;33m,\u001b[0m \u001b[0mlocation\u001b[0m\u001b[1;33m.\u001b[0m\u001b[0mlongitude\u001b[0m\u001b[1;33m)\u001b[0m\u001b[1;33m)\u001b[0m\u001b[1;33m\u001b[0m\u001b[1;33m\u001b[0m\u001b[0m\n\u001b[0m",
      "\u001b[1;31mAttributeError\u001b[0m: 'NoneType' object has no attribute 'latitude'"
     ]
    }
   ],
   "source": [
    "print(\"Latitude = {}, Longitude = {}\".format(location.latitude, location.longitude))"
   ]
  },
  {
   "cell_type": "code",
   "execution_count": null,
   "metadata": {},
   "outputs": [],
   "source": []
  }
 ],
 "metadata": {
  "kernelspec": {
   "display_name": "Python 3",
   "language": "python",
   "name": "python3"
  },
  "language_info": {
   "codemirror_mode": {
    "name": "ipython",
    "version": 3
   },
   "file_extension": ".py",
   "mimetype": "text/x-python",
   "name": "python",
   "nbconvert_exporter": "python",
   "pygments_lexer": "ipython3",
   "version": "3.7.6"
  }
 },
 "nbformat": 4,
 "nbformat_minor": 4
}
